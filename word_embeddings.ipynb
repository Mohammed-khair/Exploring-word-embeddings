{
  "cells": [
    {
      "cell_type": "markdown",
      "metadata": {
        "id": "view-in-github",
        "colab_type": "text"
      },
      "source": [
        "<a href=\"https://colab.research.google.com/github/Mohammed-khair/Exploring-word-embeddings/blob/main/word_embeddings.ipynb\" target=\"_parent\"><img src=\"https://colab.research.google.com/assets/colab-badge.svg\" alt=\"Open In Colab\"/></a>"
      ]
    },
    {
      "cell_type": "markdown",
      "metadata": {
        "id": "5tQ0aNUbpuAG"
      },
      "source": [
        "### Exploring word embeddings"
      ]
    },
    {
      "cell_type": "code",
      "execution_count": null,
      "metadata": {
        "id": "KGBcymLUpuAI"
      },
      "outputs": [],
      "source": [
        "import numpy as np\n",
        "from sklearn.metrics.pairwise import euclidean_distances\n",
        "from sklearn.cluster import KMeans"
      ]
    },
    {
      "cell_type": "markdown",
      "metadata": {
        "id": "65z8GSdTpuAJ"
      },
      "source": [
        "### Acknowledgements"
      ]
    },
    {
      "cell_type": "markdown",
      "metadata": {
        "id": "ruDU9Z_DpuAJ"
      },
      "source": [
        "In this notebook, the Glove vectors will be used for the embeddings.  \n",
        "\n",
        "Jeffrey Pennington, Richard Socher, and Christopher D. Manning. 2014. GloVe: Global Vectors for Word Representation. URL: https://nlp.stanford.edu/pubs/glove.pdf\n"
      ]
    },
    {
      "cell_type": "markdown",
      "metadata": {
        "id": "3Ji2urYPpuAJ"
      },
      "source": [
        "We will define a function that converts the text file into a dictionary of words and embedding vectors"
      ]
    },
    {
      "cell_type": "code",
      "execution_count": null,
      "metadata": {
        "id": "483QnT97puAJ"
      },
      "outputs": [],
      "source": [
        "def read_glove_vecs(glove_file):\n",
        "    with open(glove_file, 'r', encoding='utf-8') as f:\n",
        "        words = set()\n",
        "        word_to_vec_map = {}\n",
        "\n",
        "        for line in f:\n",
        "            line = line.strip().split()\n",
        "            curr_word = line[0]\n",
        "            words.add(curr_word)\n",
        "            word_to_vec_map[curr_word] = np.array(line[1:], dtype=np.float64)\n",
        "\n",
        "    return words, word_to_vec_map"
      ]
    },
    {
      "cell_type": "markdown",
      "metadata": {
        "id": "w7wFqMRypuAK"
      },
      "source": [
        "We will use this function read the text file with the embeddings"
      ]
    },
    {
      "cell_type": "code",
      "execution_count": null,
      "metadata": {
        "id": "YCZmYLzypuAK"
      },
      "outputs": [],
      "source": [
        "words, word_to_vec_map = read_glove_vecs('data/glove.6B.50d.txt')"
      ]
    },
    {
      "cell_type": "markdown",
      "metadata": {
        "id": "ZLglSZV9puAK"
      },
      "source": [
        "## Cosine similarity"
      ]
    },
    {
      "cell_type": "markdown",
      "metadata": {
        "id": "slx7Vr6kpuAK"
      },
      "source": [
        "To measure the similarity between two words, we need a way to measure the degree of similarity between two embedding vectors for the two words. Given two vectors $u$ and $v$, cosine similarity is defined as follows:\n",
        "\n",
        "$$\\text{CosineSimilarity(u, v)} = \\frac {u \\cdot v} {||u||_2 ||v||_2} = cos(\\theta) \\tag{1}$$\n",
        "\n",
        "* $u \\cdot v$ is the dot product (or inner product) of two vectors\n",
        "* $||u||_2$ is the norm (or length) of the vector $u$\n",
        "* The norm of $u$ is defined as $ ||u||_2 = \\sqrt{\\sum_{i=1}^{n} u_i^2}$\n",
        "* $\\theta$ is the angle between $u$ and $v$.\n",
        "* The cosine similarity depends on the angle between $u$ and $v$.\n",
        "    * If $u$ and $v$ are very similar, their cosine similarity will be close to 1.\n",
        "    * If they are dissimilar, the cosine similarity will take a smaller value.\n"
      ]
    },
    {
      "cell_type": "code",
      "execution_count": null,
      "metadata": {
        "id": "0SLxZShupuAK"
      },
      "outputs": [],
      "source": [
        "def cosine_similarity(u, v, epsilon=1e-15):\n",
        "    \"\"\"\n",
        "    Cosine similarity reflects the degree of similarity between u and v\n",
        "\n",
        "    Arguments:\n",
        "        u -- a word vector of shape (n,)\n",
        "        v -- a word vector of shape (n,)\n",
        "        epsilon -- a small value to avoid division by zero\n",
        "\n",
        "    Returns:\n",
        "        cosine_similarity -- the cosine similarity between u and v\n",
        "    \"\"\"\n",
        "\n",
        "    # Normalize the vectors to unit length\n",
        "    norm_u = np.linalg.norm(u)\n",
        "    norm_v = np.linalg.norm(v)\n",
        "\n",
        "    # Avoid division by zero by ensuring that norms are non-zero\n",
        "    if norm_u == 0 or norm_v == 0:\n",
        "        return 0\n",
        "\n",
        "    # Compute the cosine similarity\n",
        "    cosine_similarity = np.dot(u, v) / (norm_u * norm_v + epsilon)\n",
        "\n",
        "    return cosine_similarity"
      ]
    },
    {
      "cell_type": "markdown",
      "metadata": {
        "id": "7apKyE1NpuAL"
      },
      "source": [
        "## Word Analogy Task"
      ]
    },
    {
      "cell_type": "markdown",
      "metadata": {
        "id": "2DKJmCeSpuAL"
      },
      "source": [
        "* In the word analogy task, complete this sentence:  \n",
        "    <font color='brown'>\"*a* is to *b* as *c* is to **____**\"</font>.\n",
        "\n",
        "* An example is:  \n",
        "    <font color='brown'> '*man* is to *woman* as *king* is to *queen*' </font>.\n",
        "\n",
        "* You're trying to find a word *d*, such that the associated word vectors $e_a, e_b, e_c, e_d$ are related in the following manner:   \n",
        "    $e_b - e_a \\approx e_d - e_c$\n",
        "* We will measure the similarity between $e_b - e_a$ and $e_d - e_c$ using cosine similarity."
      ]
    },
    {
      "cell_type": "code",
      "execution_count": null,
      "metadata": {
        "id": "Ck0DHG05puAL"
      },
      "outputs": [],
      "source": [
        "def complete_analogy(word_a, word_b, word_c, word_to_vec_map):\n",
        "    \"\"\"\n",
        "    Performs the word analogy task as explained above: a is to b as c is to ____.\n",
        "\n",
        "    Arguments:\n",
        "    word_a -- a word, string\n",
        "    word_b -- a word, string\n",
        "    word_c -- a word, string\n",
        "    word_to_vec_map -- dictionary that maps words to their corresponding vectors.\n",
        "\n",
        "    Returns:\n",
        "    best_word --  the word such that v_b - v_a is close to v_best_word - v_c, as measured by cosine similarity\n",
        "    \"\"\"\n",
        "\n",
        "    # convert words to lowercase\n",
        "    word_a, word_b, word_c = word_a.lower(), word_b.lower(), word_c.lower()\n",
        "\n",
        "    # Get the word embeddings e_a, e_b and e_c (≈1-3 lines)\n",
        "    e_a, e_b, e_c = word_to_vec_map[word_a], word_to_vec_map[word_b], word_to_vec_map[word_c]\n",
        "\n",
        "    words = word_to_vec_map.keys()\n",
        "    max_cosine_sim = -100              # Initialize max_cosine_sim to a large negative number\n",
        "    best_word = None                   # Initialize best_word with None, it will help keep track of the word to output\n",
        "\n",
        "    # loop over the whole word vector set\n",
        "    for w in words:\n",
        "        # to avoid best_word being one of the input words, skip the input word_c\n",
        "        # skip word_c from query\n",
        "        if w == word_c:\n",
        "            continue\n",
        "\n",
        "        # Compute cosine similarity between the vector (e_b - e_a) and the vector ((w's vector representation) - e_c)\n",
        "        cosine_sim = cosine_similarity(e_b - e_a, word_to_vec_map[w] - e_c)\n",
        "\n",
        "        # If the cosine_sim is more than the max_cosine_sim seen so far,\n",
        "            # then: set the new max_cosine_sim to the current cosine_sim and the best_word to the current word\n",
        "        if cosine_sim > max_cosine_sim:\n",
        "            max_cosine_sim = cosine_sim\n",
        "            best_word = w\n",
        "\n",
        "    return best_word"
      ]
    },
    {
      "cell_type": "markdown",
      "metadata": {
        "id": "lShMmTEzpuAL"
      },
      "source": [
        "Lets us test the analogies"
      ]
    },
    {
      "cell_type": "code",
      "execution_count": null,
      "metadata": {
        "id": "Gf_U7-uBpuAL",
        "outputId": "29089562-5062-442e-9375-fce940fab4c5"
      },
      "outputs": [
        {
          "name": "stdout",
          "output_type": "stream",
          "text": [
            "italy -> italian :: spain -> spanish\n",
            "india -> delhi :: japan -> tokyo\n",
            "man -> woman :: boy -> girl\n",
            "small -> smaller :: large -> smaller\n"
          ]
        }
      ],
      "source": [
        "triads_to_try = [('italy', 'italian', 'spain'), ('india', 'delhi', 'japan'), ('man', 'woman', 'boy'), ('small', 'smaller', 'large')]\n",
        "for triad in triads_to_try:\n",
        "    print ('{} -> {} :: {} -> {}'.format( *triad, complete_analogy(*triad, word_to_vec_map)))"
      ]
    },
    {
      "cell_type": "markdown",
      "metadata": {
        "id": "FDfxUWuppuAM"
      },
      "source": [
        "## find the nearst neighbors"
      ]
    },
    {
      "cell_type": "code",
      "execution_count": null,
      "metadata": {
        "id": "1T9Bw2aDpuAM"
      },
      "outputs": [],
      "source": [
        "def find_nearest_neighbors(word, word_to_vec_map, top_n=5):\n",
        "    # Get the word vector for the target word\n",
        "    vec = word_to_vec_map[word.lower()]\n",
        "\n",
        "    # Calculate Euclidean distances between the target vector and all other vectors\n",
        "    distances = euclidean_distances(vec.reshape(1, -1), list(word_to_vec_map.values()))\n",
        "\n",
        "    # Get the indices of the nearest neighbors based on distances\n",
        "    nearest_indices = np.argsort(distances)[0][:top_n]\n",
        "\n",
        "    # Get the words corresponding to the nearest indices\n",
        "    nearest_words = [list(word_to_vec_map.keys())[i] for i in nearest_indices]\n",
        "\n",
        "    return nearest_words"
      ]
    },
    {
      "cell_type": "markdown",
      "metadata": {
        "id": "_Um95zABpuAM"
      },
      "source": [
        "let us find the nearst neighbors of a given word"
      ]
    },
    {
      "cell_type": "code",
      "execution_count": null,
      "metadata": {
        "id": "33pGlYbLpuAM",
        "outputId": "9c1a46ff-95ac-443f-a2ab-0f3792e57409"
      },
      "outputs": [
        {
          "name": "stdout",
          "output_type": "stream",
          "text": [
            "hello -> ['hello', 'goodbye', 'kiss', 'hey', 'wow']\n",
            "food -> ['food', 'coffee', 'products', 'supplies', 'supply']\n",
            "cat -> ['cat', 'dog', 'rabbit', 'monkey', 'cats']\n",
            "car -> ['car', 'truck', 'vehicle', 'cars', 'driving']\n",
            "japan -> ['japan', 'japanese', 'china', 'tokyo', 'korea']\n"
          ]
        }
      ],
      "source": [
        "words_to_try = [\"hello\", \"food\", \"cat\", \"car\", \"japan\"]\n",
        "for word in words_to_try:\n",
        "    print ('{} -> {}'.format( word, find_nearest_neighbors(word, word_to_vec_map)))"
      ]
    },
    {
      "cell_type": "markdown",
      "metadata": {
        "id": "-DcPU1mdpuAM"
      },
      "source": [
        "## Clustering"
      ]
    },
    {
      "cell_type": "markdown",
      "metadata": {
        "id": "XvlRcHIYpuAN"
      },
      "source": [
        "\n",
        "We will try to cluster the entire vector space into five clusters"
      ]
    },
    {
      "cell_type": "code",
      "execution_count": null,
      "metadata": {
        "id": "xIvTlbcypuAN"
      },
      "outputs": [],
      "source": [
        "def cluster(num_clusters, word_to_vec_map):\n",
        "\n",
        "    # get the list of word embeddings\n",
        "    word_embeddings = np.array(list(word_to_vec_map.values()))\n",
        "\n",
        "    # perform k-means clustering\n",
        "    kmeans = KMeans(n_clusters=num_clusters)\n",
        "    cluster_assignments = kmeans.fit_predict(word_embeddings)\n",
        "\n",
        "    clustered_words = {}\n",
        "    for i, cluster_id in enumerate(cluster_assignments):\n",
        "        word = list(word_to_vec_map.keys())[i]\n",
        "        if cluster_id not in clustered_words:\n",
        "            clustered_words[cluster_id] = []\n",
        "        clustered_words[cluster_id].append(word)\n",
        "\n",
        "    for cluster_id, words in clustered_words.items():\n",
        "        print(f\"Cluster {cluster_id}: {words}\")\n",
        "\n",
        "    return"
      ]
    },
    {
      "cell_type": "code",
      "execution_count": null,
      "metadata": {
        "id": "1JgM8IJ9puAN"
      },
      "outputs": [],
      "source": [
        "cluster(5, word_to_vec_map)"
      ]
    }
  ],
  "metadata": {
    "kernelspec": {
      "display_name": "Python 3",
      "language": "python",
      "name": "python3"
    },
    "language_info": {
      "codemirror_mode": {
        "name": "ipython",
        "version": 3
      },
      "file_extension": ".py",
      "mimetype": "text/x-python",
      "name": "python",
      "nbconvert_exporter": "python",
      "pygments_lexer": "ipython3",
      "version": "3.11.1"
    },
    "orig_nbformat": 4,
    "colab": {
      "provenance": [],
      "include_colab_link": true
    }
  },
  "nbformat": 4,
  "nbformat_minor": 0
}